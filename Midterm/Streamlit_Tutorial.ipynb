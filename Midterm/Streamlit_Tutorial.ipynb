{
 "cells": [
  {
   "cell_type": "markdown",
   "id": "d46774ec",
   "metadata": {},
   "source": [
    "# Streamlit Tutorial\n"
   ]
  },
  {
   "cell_type": "markdown",
   "id": "99b07c79",
   "metadata": {},
   "source": [
    "This tutorial is done in Jupyter Notebook to show step by step directions on the capabilities of Streamlit, however in order to properly run Streamlit, it is best to use a standalone script with a built in terminal such as Pycharm. "
   ]
  },
  {
   "cell_type": "markdown",
   "id": "afde64d9",
   "metadata": {},
   "source": [
    "Please download and properly save the python files that have been sent to you and open the files in Pycharm. or find them here: https://github.com/bradybrendan/Advanced-Programming/tree/73d64356cff0d24b0dca1aab1a6eff35e831afc4/Midterm"
   ]
  },
  {
   "cell_type": "markdown",
   "id": "17bc9781",
   "metadata": {},
   "source": [
    "# 1. Install and import"
   ]
  },
  {
   "cell_type": "markdown",
   "id": "fdda3c39",
   "metadata": {},
   "source": [
    "First we must ***install*** and ***import*** the Streamlit (and other) libraries."
   ]
  },
  {
   "cell_type": "code",
   "execution_count": 3,
   "id": "dcfed001",
   "metadata": {},
   "outputs": [
    {
     "name": "stdout",
     "output_type": "stream",
     "text": [
      "Collecting streamlit\n",
      "  Obtaining dependency information for streamlit from https://files.pythonhosted.org/packages/3c/4f/5bafc3915c103ba3c39e42d3dfd863ed258d6ed1cb18c2faa48c766551df/streamlit-1.32.0-py2.py3-none-any.whl.metadata\n",
      "  Downloading streamlit-1.32.0-py2.py3-none-any.whl.metadata (8.5 kB)\n",
      "Collecting altair<6,>=4.0 (from streamlit)\n",
      "  Obtaining dependency information for altair<6,>=4.0 from https://files.pythonhosted.org/packages/c5/e4/7fcceef127badbb0d644d730d992410e4f3799b295c9964a172f92a469c7/altair-5.2.0-py3-none-any.whl.metadata\n",
      "  Downloading altair-5.2.0-py3-none-any.whl.metadata (8.7 kB)\n",
      "Collecting blinker<2,>=1.0.0 (from streamlit)\n",
      "  Obtaining dependency information for blinker<2,>=1.0.0 from https://files.pythonhosted.org/packages/fa/2a/7f3714cbc6356a0efec525ce7a0613d581072ed6eb53eb7b9754f33db807/blinker-1.7.0-py3-none-any.whl.metadata\n",
      "  Downloading blinker-1.7.0-py3-none-any.whl.metadata (1.9 kB)\n",
      "Collecting cachetools<6,>=4.0 (from streamlit)\n",
      "  Obtaining dependency information for cachetools<6,>=4.0 from https://files.pythonhosted.org/packages/fb/2b/a64c2d25a37aeb921fddb929111413049fc5f8b9a4c1aefaffaafe768d54/cachetools-5.3.3-py3-none-any.whl.metadata\n",
      "  Downloading cachetools-5.3.3-py3-none-any.whl.metadata (5.3 kB)\n",
      "Requirement already satisfied: click<9,>=7.0 in /Users/brendanbrady/anaconda3/lib/python3.11/site-packages (from streamlit) (8.0.4)\n",
      "Requirement already satisfied: numpy<2,>=1.19.3 in /Users/brendanbrady/anaconda3/lib/python3.11/site-packages (from streamlit) (1.24.3)\n",
      "Requirement already satisfied: packaging<24,>=16.8 in /Users/brendanbrady/anaconda3/lib/python3.11/site-packages (from streamlit) (23.1)\n",
      "Requirement already satisfied: pandas<3,>=1.3.0 in /Users/brendanbrady/anaconda3/lib/python3.11/site-packages (from streamlit) (2.0.3)\n",
      "Requirement already satisfied: pillow<11,>=7.1.0 in /Users/brendanbrady/anaconda3/lib/python3.11/site-packages (from streamlit) (9.4.0)\n",
      "Collecting protobuf<5,>=3.20 (from streamlit)\n",
      "  Obtaining dependency information for protobuf<5,>=3.20 from https://files.pythonhosted.org/packages/f3/bf/26deba06a4c910a85f78245cac7698f67cedd7efe00d04f6b3e1b3506a59/protobuf-4.25.3-cp37-abi3-macosx_10_9_universal2.whl.metadata\n",
      "  Downloading protobuf-4.25.3-cp37-abi3-macosx_10_9_universal2.whl.metadata (541 bytes)\n",
      "Requirement already satisfied: pyarrow>=7.0 in /Users/brendanbrady/anaconda3/lib/python3.11/site-packages (from streamlit) (11.0.0)\n",
      "Requirement already satisfied: requests<3,>=2.27 in /Users/brendanbrady/anaconda3/lib/python3.11/site-packages (from streamlit) (2.31.0)\n",
      "Collecting rich<14,>=10.14.0 (from streamlit)\n",
      "  Obtaining dependency information for rich<14,>=10.14.0 from https://files.pythonhosted.org/packages/87/67/a37f6214d0e9fe57f6ae54b2956d550ca8365857f42a1ce0392bb21d9410/rich-13.7.1-py3-none-any.whl.metadata\n",
      "  Downloading rich-13.7.1-py3-none-any.whl.metadata (18 kB)\n",
      "Requirement already satisfied: tenacity<9,>=8.1.0 in /Users/brendanbrady/anaconda3/lib/python3.11/site-packages (from streamlit) (8.2.2)\n",
      "Requirement already satisfied: toml<2,>=0.10.1 in /Users/brendanbrady/anaconda3/lib/python3.11/site-packages (from streamlit) (0.10.2)\n",
      "Requirement already satisfied: typing-extensions<5,>=4.3.0 in /Users/brendanbrady/anaconda3/lib/python3.11/site-packages (from streamlit) (4.7.1)\n",
      "Collecting gitpython!=3.1.19,<4,>=3.0.7 (from streamlit)\n",
      "  Obtaining dependency information for gitpython!=3.1.19,<4,>=3.0.7 from https://files.pythonhosted.org/packages/67/c7/995360c87dd74e27539ccbfecddfb58e08f140d849fcd7f35d2ed1a5f80f/GitPython-3.1.42-py3-none-any.whl.metadata\n",
      "  Downloading GitPython-3.1.42-py3-none-any.whl.metadata (12 kB)\n",
      "Collecting pydeck<1,>=0.8.0b4 (from streamlit)\n",
      "  Obtaining dependency information for pydeck<1,>=0.8.0b4 from https://files.pythonhosted.org/packages/10/4b/2fc80540e2d3903452245bb657c7f758ec7342420507d1e4091b0161856e/pydeck-0.8.1b0-py2.py3-none-any.whl.metadata\n",
      "  Downloading pydeck-0.8.1b0-py2.py3-none-any.whl.metadata (3.9 kB)\n",
      "Requirement already satisfied: tornado<7,>=6.0.3 in /Users/brendanbrady/anaconda3/lib/python3.11/site-packages (from streamlit) (6.3.2)\n",
      "Requirement already satisfied: jinja2 in /Users/brendanbrady/anaconda3/lib/python3.11/site-packages (from altair<6,>=4.0->streamlit) (3.1.2)\n",
      "Requirement already satisfied: jsonschema>=3.0 in /Users/brendanbrady/anaconda3/lib/python3.11/site-packages (from altair<6,>=4.0->streamlit) (4.17.3)\n",
      "Requirement already satisfied: toolz in /Users/brendanbrady/anaconda3/lib/python3.11/site-packages (from altair<6,>=4.0->streamlit) (0.12.0)\n",
      "Collecting gitdb<5,>=4.0.1 (from gitpython!=3.1.19,<4,>=3.0.7->streamlit)\n",
      "  Obtaining dependency information for gitdb<5,>=4.0.1 from https://files.pythonhosted.org/packages/fd/5b/8f0c4a5bb9fd491c277c21eff7ccae71b47d43c4446c9d0c6cff2fe8c2c4/gitdb-4.0.11-py3-none-any.whl.metadata\n",
      "  Downloading gitdb-4.0.11-py3-none-any.whl.metadata (1.2 kB)\n",
      "Requirement already satisfied: python-dateutil>=2.8.2 in /Users/brendanbrady/anaconda3/lib/python3.11/site-packages (from pandas<3,>=1.3.0->streamlit) (2.8.2)\n",
      "Requirement already satisfied: pytz>=2020.1 in /Users/brendanbrady/anaconda3/lib/python3.11/site-packages (from pandas<3,>=1.3.0->streamlit) (2023.3.post1)\n",
      "Requirement already satisfied: tzdata>=2022.1 in /Users/brendanbrady/anaconda3/lib/python3.11/site-packages (from pandas<3,>=1.3.0->streamlit) (2023.3)\n",
      "Requirement already satisfied: charset-normalizer<4,>=2 in /Users/brendanbrady/anaconda3/lib/python3.11/site-packages (from requests<3,>=2.27->streamlit) (2.0.4)\n",
      "Requirement already satisfied: idna<4,>=2.5 in /Users/brendanbrady/anaconda3/lib/python3.11/site-packages (from requests<3,>=2.27->streamlit) (3.4)\n",
      "Requirement already satisfied: urllib3<3,>=1.21.1 in /Users/brendanbrady/anaconda3/lib/python3.11/site-packages (from requests<3,>=2.27->streamlit) (1.26.16)\n",
      "Requirement already satisfied: certifi>=2017.4.17 in /Users/brendanbrady/anaconda3/lib/python3.11/site-packages (from requests<3,>=2.27->streamlit) (2023.7.22)\n",
      "Requirement already satisfied: markdown-it-py>=2.2.0 in /Users/brendanbrady/anaconda3/lib/python3.11/site-packages (from rich<14,>=10.14.0->streamlit) (2.2.0)\n",
      "Requirement already satisfied: pygments<3.0.0,>=2.13.0 in /Users/brendanbrady/anaconda3/lib/python3.11/site-packages (from rich<14,>=10.14.0->streamlit) (2.15.1)\n",
      "Collecting smmap<6,>=3.0.1 (from gitdb<5,>=4.0.1->gitpython!=3.1.19,<4,>=3.0.7->streamlit)\n",
      "  Obtaining dependency information for smmap<6,>=3.0.1 from https://files.pythonhosted.org/packages/a7/a5/10f97f73544edcdef54409f1d839f6049a0d79df68adbc1ceb24d1aaca42/smmap-5.0.1-py3-none-any.whl.metadata\n",
      "  Downloading smmap-5.0.1-py3-none-any.whl.metadata (4.3 kB)\n",
      "Requirement already satisfied: MarkupSafe>=2.0 in /Users/brendanbrady/anaconda3/lib/python3.11/site-packages (from jinja2->altair<6,>=4.0->streamlit) (2.1.1)\n",
      "Requirement already satisfied: attrs>=17.4.0 in /Users/brendanbrady/anaconda3/lib/python3.11/site-packages (from jsonschema>=3.0->altair<6,>=4.0->streamlit) (22.1.0)\n",
      "Requirement already satisfied: pyrsistent!=0.17.0,!=0.17.1,!=0.17.2,>=0.14.0 in /Users/brendanbrady/anaconda3/lib/python3.11/site-packages (from jsonschema>=3.0->altair<6,>=4.0->streamlit) (0.18.0)\n",
      "Requirement already satisfied: mdurl~=0.1 in /Users/brendanbrady/anaconda3/lib/python3.11/site-packages (from markdown-it-py>=2.2.0->rich<14,>=10.14.0->streamlit) (0.1.0)\n",
      "Requirement already satisfied: six>=1.5 in /Users/brendanbrady/anaconda3/lib/python3.11/site-packages (from python-dateutil>=2.8.2->pandas<3,>=1.3.0->streamlit) (1.16.0)\n",
      "Downloading streamlit-1.32.0-py2.py3-none-any.whl (8.1 MB)\n",
      "\u001b[2K   \u001b[90m━━━━━━━━━━━━━━━━━━━━━━━━━━━━━━━━━━━━━━━━\u001b[0m \u001b[32m8.1/8.1 MB\u001b[0m \u001b[31m25.3 MB/s\u001b[0m eta \u001b[36m0:00:00\u001b[0m00:01\u001b[0m00:01\u001b[0m\n",
      "\u001b[?25hDownloading altair-5.2.0-py3-none-any.whl (996 kB)\n",
      "\u001b[2K   \u001b[90m━━━━━━━━━━━━━━━━━━━━━━━━━━━━━━━━━━━━━━━━\u001b[0m \u001b[32m996.9/996.9 kB\u001b[0m \u001b[31m29.1 MB/s\u001b[0m eta \u001b[36m0:00:00\u001b[0m\n",
      "\u001b[?25hDownloading blinker-1.7.0-py3-none-any.whl (13 kB)\n",
      "Downloading cachetools-5.3.3-py3-none-any.whl (9.3 kB)\n",
      "Downloading GitPython-3.1.42-py3-none-any.whl (195 kB)\n",
      "\u001b[2K   \u001b[90m━━━━━━━━━━━━━━━━━━━━━━━━━━━━━━━━━━━━━━━━\u001b[0m \u001b[32m195.4/195.4 kB\u001b[0m \u001b[31m23.1 MB/s\u001b[0m eta \u001b[36m0:00:00\u001b[0m\n",
      "\u001b[?25hDownloading protobuf-4.25.3-cp37-abi3-macosx_10_9_universal2.whl (394 kB)\n",
      "\u001b[2K   \u001b[90m━━━━━━━━━━━━━━━━━━━━━━━━━━━━━━━━━━━━━━━━\u001b[0m \u001b[32m394.2/394.2 kB\u001b[0m \u001b[31m28.5 MB/s\u001b[0m eta \u001b[36m0:00:00\u001b[0m\n"
     ]
    },
    {
     "name": "stdout",
     "output_type": "stream",
     "text": [
      "\u001b[?25hDownloading pydeck-0.8.1b0-py2.py3-none-any.whl (4.8 MB)\n",
      "\u001b[2K   \u001b[90m━━━━━━━━━━━━━━━━━━━━━━━━━━━━━━━━━━━━━━━━\u001b[0m \u001b[32m4.8/4.8 MB\u001b[0m \u001b[31m27.2 MB/s\u001b[0m eta \u001b[36m0:00:00\u001b[0ma \u001b[36m0:00:01\u001b[0m\n",
      "\u001b[?25hDownloading rich-13.7.1-py3-none-any.whl (240 kB)\n",
      "\u001b[2K   \u001b[90m━━━━━━━━━━━━━━━━━━━━━━━━━━━━━━━━━━━━━━━━\u001b[0m \u001b[32m240.7/240.7 kB\u001b[0m \u001b[31m15.9 MB/s\u001b[0m eta \u001b[36m0:00:00\u001b[0m\n",
      "\u001b[?25hDownloading gitdb-4.0.11-py3-none-any.whl (62 kB)\n",
      "\u001b[2K   \u001b[90m━━━━━━━━━━━━━━━━━━━━━━━━━━━━━━━━━━━━━━━━\u001b[0m \u001b[32m62.7/62.7 kB\u001b[0m \u001b[31m6.7 MB/s\u001b[0m eta \u001b[36m0:00:00\u001b[0m\n",
      "\u001b[?25hDownloading smmap-5.0.1-py3-none-any.whl (24 kB)\n",
      "Installing collected packages: smmap, protobuf, cachetools, blinker, rich, pydeck, gitdb, gitpython, altair, streamlit\n",
      "Successfully installed altair-5.2.0 blinker-1.7.0 cachetools-5.3.3 gitdb-4.0.11 gitpython-3.1.42 protobuf-4.25.3 pydeck-0.8.1b0 rich-13.7.1 smmap-5.0.1 streamlit-1.32.0\n"
     ]
    }
   ],
   "source": [
    "!pip install streamlit"
   ]
  },
  {
   "cell_type": "code",
   "execution_count": 19,
   "id": "022ca5fd",
   "metadata": {},
   "outputs": [],
   "source": [
    "import streamlit as st\n",
    "import numpy as np\n",
    "import pandas as pd\n",
    "import matplotlib.pyplot as plt\n",
    "import seaborn as sns"
   ]
  },
  {
   "cell_type": "markdown",
   "id": "88448bcd",
   "metadata": {},
   "source": [
    "# 2. Read in and Run"
   ]
  },
  {
   "cell_type": "markdown",
   "id": "3b5e7c75",
   "metadata": {},
   "source": [
    "Once the data is read into the python file correctly, we should be ready to run our standalone script. (for this tutorial we believe the learning is done best by viewing the output along with your code input) \n",
    "\n",
    "To run the code please type the following into you terminal (Note: use 'cd [folder_name]' to navigate the correct spot): \n",
    "**streamlit run Streamlit1.py**"
   ]
  },
  {
   "cell_type": "markdown",
   "id": "78044cbc",
   "metadata": {},
   "source": [
    "The first python file we will exlore is Streamlit1.py."
   ]
  },
  {
   "cell_type": "markdown",
   "id": "1cd42ff1",
   "metadata": {},
   "source": [
    "We have chosen a dataset of interest to show Streamlit capabilities for both data analysis and web application."
   ]
  },
  {
   "cell_type": "code",
   "execution_count": 16,
   "id": "5c924297",
   "metadata": {},
   "outputs": [],
   "source": [
    "data = pd.read_csv('data/Housing.csv')\n",
    "# Must properly store and read in the csv file"
   ]
  },
  {
   "cell_type": "markdown",
   "id": "23af4615",
   "metadata": {},
   "source": [
    "# 3. Write in and display dataset "
   ]
  },
  {
   "cell_type": "markdown",
   "id": "209968cc",
   "metadata": {},
   "source": [
    "Now, we will begin to write in the data to the webpage. We begin with basic data exploration and analysis techniques. "
   ]
  },
  {
   "cell_type": "code",
   "execution_count": 18,
   "id": "fd5ac9c2",
   "metadata": {},
   "outputs": [],
   "source": [
    "# Create a title for the webpage\n",
    "st.title('Housing Dataset Exploration Using Streamlit ')\n",
    "# Display first 5 rows of the dataset\n",
    "st.write(\"First 5 Rows of the Dataset\")\n",
    "st.write(data.head())\n",
    "# Show summary statistics\n",
    "st.write(\"Summary Statistics\")\n",
    "st.write(data.describe())"
   ]
  },
  {
   "cell_type": "markdown",
   "id": "83fef7f3",
   "metadata": {},
   "source": [
    "Now, we will incorporate **widgets** to display data on the webpage. Here we are able to interact on the webpage by choosing the column/variable we want to see the first ten rows of. A simple way of showing the data we want to analyze. "
   ]
  },
  {
   "cell_type": "code",
   "execution_count": null,
   "id": "b08a1f78",
   "metadata": {},
   "outputs": [],
   "source": [
    "# Select box for choosing a column\n",
    "column = st.selectbox('Select column', data.columns)\n",
    "\n",
    "# Display selected column data\n",
    "st.write(data[column])\n"
   ]
  },
  {
   "cell_type": "markdown",
   "id": "d62df8dd",
   "metadata": {},
   "source": [
    "# 4. Visualize and Analyze"
   ]
  },
  {
   "cell_type": "markdown",
   "id": "f45655ee",
   "metadata": {},
   "source": [
    "We now have some basic display of our data on the webpage, and we want to analyze and visualize our data. The code below will allow us to interact by choosing columns to plot against each other. "
   ]
  },
  {
   "cell_type": "code",
   "execution_count": 20,
   "id": "d51cfc34",
   "metadata": {},
   "outputs": [
    {
     "data": {
      "text/plain": [
       "DeltaGenerator()"
      ]
     },
     "execution_count": 20,
     "metadata": {},
     "output_type": "execute_result"
    }
   ],
   "source": [
    "# Select columns for visualization\n",
    "col1 = st.selectbox('Select first column for plot', data.columns)\n",
    "col2 = st.selectbox('Select second column for plot', data.columns)\n",
    "\n",
    "# Plotting with seaborn\n",
    "sns.jointplot(x=col1, y=col2, data=data, kind='scatter')\n",
    "st.pyplot(plt)\n"
   ]
  },
  {
   "cell_type": "markdown",
   "id": "8b8a9d3c",
   "metadata": {},
   "source": [
    "So far, we have only used the widget **selectbox**, now we will look at a couple more, the first being **button**. The below code plots a heatmap correlation matrix, which can be displayed when the 'Show Correlation Matrix' button is pressed within the webpage. "
   ]
  },
  {
   "cell_type": "code",
   "execution_count": null,
   "id": "fdbe6658",
   "metadata": {},
   "outputs": [],
   "source": [
    "# Function to plot a correlation matrix\n",
    "def plot_correlation(data):\n",
    "    corr = data.corr()\n",
    "    plt.figure(figsize=(10,10))\n",
    "    sns.heatmap(corr, annot=True, fmt=\".2f\")\n",
    "    st.pyplot(plt)\n",
    "\n",
    "# Button to show correlation matrix\n",
    "if st.button('Show Correlation Matrix'):\n",
    "    plot_correlation(data)"
   ]
  },
  {
   "cell_type": "markdown",
   "id": "91826633",
   "metadata": {},
   "source": [
    "# 5. More widgets for filtering"
   ]
  },
  {
   "cell_type": "markdown",
   "id": "dae3a062",
   "metadata": {},
   "source": [
    "With further data exploration, we can use multiple widgets to work together: below we are using the selectbox to choose the column variable we want to explore, next we can use the **slider** to display houses within the slected range. Now the webpage user can filter the data by their budget, or bedrooms/bathroom count they desire, etc. "
   ]
  },
  {
   "cell_type": "code",
   "execution_count": null,
   "id": "88308053",
   "metadata": {},
   "outputs": [],
   "source": [
    "# Select a column for filtering\n",
    "filter_column = st.selectbox('Select Column to Filter', data.columns)\n",
    "\n",
    "# Slider for selecting range\n",
    "min_value, max_value = st.slider('Filter range', float(data[filter_column].min()), float(data[filter_column].max()), (float(data[filter_column].min()), float(data[filter_column].max())))\n",
    "\n",
    "# Filtering the data\n",
    "filtered_data = data[(data[filter_column] >= min_value) & (data[filter_column] <= max_value)]\n",
    "st.write(filtered_data)"
   ]
  },
  {
   "cell_type": "markdown",
   "id": "1d688b71",
   "metadata": {},
   "source": [
    "# 6. Page configuration, sidebars and further data exploration"
   ]
  },
  {
   "cell_type": "markdown",
   "id": "512bc61a",
   "metadata": {},
   "source": [
    "Now to further explore Streamlit, please run the second python file: *****streamlit run Streamlit2.py*****"
   ]
  },
  {
   "cell_type": "markdown",
   "id": "180fa58e",
   "metadata": {},
   "source": [
    "This file is a bit more complex. We will begin further data exploration by grouping homes into small, medium, and large sizes based on area of the house. (We changed the colors just for fun and to show you can)\n",
    "\n",
    "In the code below, we also set up the page configuration, something we left default in the previous file. Check out the browser tab icon (pretty neat)."
   ]
  },
  {
   "cell_type": "code",
   "execution_count": null,
   "id": "5e7868c1",
   "metadata": {},
   "outputs": [],
   "source": [
    "# Now we are adding some colors.\n",
    "# Set plot style to magenta\n",
    "sns.set_palette([\"magenta\", \"cyan\", \"lime\", \"orange\"])\n",
    "\n",
    "# Define custom groups for areas based on square footage\n",
    "area_groups = {\n",
    "    'Small': (1650, 5000),\n",
    "    'Medium': (5001, 10000),\n",
    "    'Large': (10001, 16200)\n",
    "}\n",
    "\n",
    "# Set page config\n",
    "st.set_page_config(\n",
    "    page_title=\"Housing Dataset Exploration\",\n",
    "    page_icon=\":house:\",\n",
    "    layout=\"wide\",\n",
    "    initial_sidebar_state=\"expanded\",\n",
    ")\n",
    "\n",
    "# Title of the app\n",
    "st.title(\"Housing Dataset Exploration\")"
   ]
  },
  {
   "cell_type": "markdown",
   "id": "93a617e2",
   "metadata": {},
   "source": [
    "# 7. Sidebar filtering"
   ]
  },
  {
   "cell_type": "markdown",
   "id": "b0411723",
   "metadata": {},
   "source": [
    "A new widget or feature we see on this webpage is the **sidebar** something very common on today's website designs. In the below code, we setup the sidebar with a selectbox to choose from the previously grouped house sizes and we can see displayed, an output of the homes in the category. "
   ]
  },
  {
   "cell_type": "code",
   "execution_count": null,
   "id": "e93fc60a",
   "metadata": {},
   "outputs": [],
   "source": [
    "# Sidebar for user input\n",
    "st.sidebar.title(\"Filter Data\")\n",
    "\n",
    "# Filter by area group\n",
    "area_group = st.sidebar.selectbox(\"Area Group\", options=list(area_groups.keys()), key=\"area_group\")\n",
    "\n",
    "# Get square footage range for the selected group\n",
    "group_range = area_groups[area_group]\n",
    "min_range, max_range = group_range\n",
    "\n",
    "# Filter by square footage range\n",
    "filtered_data_area = data[(data['area'] >= min_range) & (data['area'] <= max_range)]\n",
    "\n",
    "# Display filtered data by area group\n",
    "if not filtered_data_area.empty:\n",
    "    st.markdown(f'<div style=\"color: #DC143C;\">### Filtered Data for {area_group} Areas</div>', unsafe_allow_html=True)\n",
    "    st.dataframe(filtered_data_area)\n",
    "else:\n",
    "    st.markdown(f'<div style=\"color: #DC143C;\">### No data matches the selected area group filters.</div>',\n",
    "                unsafe_allow_html=True)"
   ]
  },
  {
   "cell_type": "markdown",
   "id": "225f0faf",
   "metadata": {},
   "source": [
    "Let's say we want to filter the data further, we can add additional widgets to the sidebar and additional outputs on the main page, which is done with the code below. Now we can filter the data by home size, bathroom and bedroom count, displaying all home that fall within the filters and also the average price of the selected houses. "
   ]
  },
  {
   "cell_type": "code",
   "execution_count": null,
   "id": "4f2ceee8",
   "metadata": {},
   "outputs": [],
   "source": [
    "# Filter by number of bedrooms and bathrooms for average price\n",
    "st.sidebar.title(\"Filter by Bedrooms and Bathrooms\")\n",
    "\n",
    "# Filter by number of bedrooms\n",
    "bedrooms = st.sidebar.slider(\"Number of Bedrooms\", min_value=1, max_value=10, value=5, key=\"bedrooms\")\n",
    "\n",
    "# Filter by number of bathrooms\n",
    "bathrooms = st.sidebar.slider(\"Number of Bathrooms\", min_value=1, max_value=10, value=2, key=\"bathrooms\")\n",
    "\n",
    "# Apply filters\n",
    "filtered_data_bed_bath = filtered_data_area[\n",
    "    (filtered_data_area['bedrooms'] == bedrooms) & (filtered_data_area['bathrooms'] == bathrooms)]\n",
    "\n",
    "# Display filtered data\n",
    "if not filtered_data_bed_bath.empty:\n",
    "    st.markdown('<div style=\"color: #DC143C;\">### Filtered Data</div>', unsafe_allow_html=True)\n",
    "    st.dataframe(filtered_data_bed_bath)\n",
    "\n",
    "    # Calculate average price\n",
    "    average_price = filtered_data_bed_bath['price'].mean()\n",
    "    st.markdown(f'<div style=\"color: #DC143C;\">Average Price: ${average_price:.2f}</div>', unsafe_allow_html=True)\n",
    "else:\n",
    "    st.markdown('<div style=\"color: #DC143C;\">### No data matches the selected filters.</div>', unsafe_allow_html=True)"
   ]
  },
  {
   "cell_type": "markdown",
   "id": "0cc60114",
   "metadata": {},
   "source": [
    "For an understanding and visualization of the total data we are filtering above, the below code displays (in bar graph form) the total count of homes based off of each variable range.  "
   ]
  },
  {
   "cell_type": "code",
   "execution_count": null,
   "id": "c8a4dda1",
   "metadata": {},
   "outputs": [],
   "source": [
    "# Create separate plots for each variable\n",
    "fig, axs = plt.subplots(2, 2, figsize=(12, 10))\n",
    "\n",
    "# Plot for Bedrooms\n",
    "sns.histplot(data['bedrooms'], ax=axs[0, 0], kde=True)\n",
    "axs[0, 0].set_title('Bedrooms')\n",
    "\n",
    "# Plot for Bathrooms\n",
    "sns.histplot(data['bathrooms'], ax=axs[0, 1], kde=True)\n",
    "axs[0, 1].set_title('Bathrooms')\n",
    "\n",
    "# Plot for Area\n",
    "sns.histplot(data['area'], ax=axs[1, 0], kde=True)\n",
    "axs[1, 0].set_title('Area')\n",
    "\n",
    "# Plot for Price\n",
    "sns.histplot(data['price'], ax=axs[1, 1], kde=True)\n",
    "axs[1, 1].set_title('Price')\n",
    "\n",
    "# Adjust layout\n",
    "plt.tight_layout()\n",
    "\n",
    "# Display the plots\n",
    "st.pyplot(fig)"
   ]
  },
  {
   "cell_type": "markdown",
   "id": "a64edf55",
   "metadata": {},
   "source": [
    "# 8. Deployment"
   ]
  },
  {
   "cell_type": "markdown",
   "id": "a884990a",
   "metadata": {},
   "source": [
    "Once we have created out webpage/app Streamlit makes it very simple to deploy using Streamlit Sharing, Heroku, AWS, etc.\n",
    "\n",
    "Steps to deploy on Streamlit Sharing:\n",
    "1. save on public Github repository\n",
    "2. create a requirements .txt file listing all python files your app needs.\n",
    "3. Signup/login to Streamlit Sharing\n",
    "4. navigate the website to 'deploy'\n",
    "5. app is deployed and you are provided a URL."
   ]
  },
  {
   "cell_type": "code",
   "execution_count": null,
   "id": "f158ad44",
   "metadata": {},
   "outputs": [],
   "source": []
  }
 ],
 "metadata": {
  "kernelspec": {
   "display_name": "Python 3 (ipykernel)",
   "language": "python",
   "name": "python3"
  },
  "language_info": {
   "codemirror_mode": {
    "name": "ipython",
    "version": 3
   },
   "file_extension": ".py",
   "mimetype": "text/x-python",
   "name": "python",
   "nbconvert_exporter": "python",
   "pygments_lexer": "ipython3",
   "version": "3.11.5"
  }
 },
 "nbformat": 4,
 "nbformat_minor": 5
}
